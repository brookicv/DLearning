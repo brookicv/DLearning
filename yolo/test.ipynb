{
 "cells": [
  {
   "cell_type": "code",
   "execution_count": 1,
   "metadata": {},
   "outputs": [
    {
     "output_type": "stream",
     "name": "stdout",
     "text": "[ 0  1  2  3  4  5  6  7  8  9 10 11 12]\n[[ 0  1  2  3  4  5  6  7  8  9 10 11 12]\n [ 0  1  2  3  4  5  6  7  8  9 10 11 12]\n [ 0  1  2  3  4  5  6  7  8  9 10 11 12]\n [ 0  1  2  3  4  5  6  7  8  9 10 11 12]\n [ 0  1  2  3  4  5  6  7  8  9 10 11 12]\n [ 0  1  2  3  4  5  6  7  8  9 10 11 12]\n [ 0  1  2  3  4  5  6  7  8  9 10 11 12]\n [ 0  1  2  3  4  5  6  7  8  9 10 11 12]\n [ 0  1  2  3  4  5  6  7  8  9 10 11 12]\n [ 0  1  2  3  4  5  6  7  8  9 10 11 12]\n [ 0  1  2  3  4  5  6  7  8  9 10 11 12]\n [ 0  1  2  3  4  5  6  7  8  9 10 11 12]\n [ 0  1  2  3  4  5  6  7  8  9 10 11 12]]\n[[ 0  0  0  0  0  0  0  0  0  0  0  0  0]\n [ 1  1  1  1  1  1  1  1  1  1  1  1  1]\n [ 2  2  2  2  2  2  2  2  2  2  2  2  2]\n [ 3  3  3  3  3  3  3  3  3  3  3  3  3]\n [ 4  4  4  4  4  4  4  4  4  4  4  4  4]\n [ 5  5  5  5  5  5  5  5  5  5  5  5  5]\n [ 6  6  6  6  6  6  6  6  6  6  6  6  6]\n [ 7  7  7  7  7  7  7  7  7  7  7  7  7]\n [ 8  8  8  8  8  8  8  8  8  8  8  8  8]\n [ 9  9  9  9  9  9  9  9  9  9  9  9  9]\n [10 10 10 10 10 10 10 10 10 10 10 10 10]\n [11 11 11 11 11 11 11 11 11 11 11 11 11]\n [12 12 12 12 12 12 12 12 12 12 12 12 12]]\n"
    }
   ],
   "source": [
    "import numpy as np \n",
    "\n",
    "grid = np.arange(13)\n",
    "a,b = np.meshgrid(grid,grid)\n",
    "\n",
    "print(grid)\n",
    "print(a)\n",
    "print(b)"
   ]
  },
  {
   "cell_type": "code",
   "execution_count": null,
   "metadata": {},
   "outputs": [],
   "source": [
    "import torch\n",
    "\n",
    "grid_t = torch.arange(13)\n",
    "c,d = torch.meshgrid(grid_t,grid_t)\n",
    "print(c)\n",
    "print(d)"
   ]
  },
  {
   "cell_type": "code",
   "execution_count": null,
   "metadata": {},
   "outputs": [],
   "source": [
    "import torch\n",
    "\n",
    "x_offset = torch.Tensor(a).view(-1,1)\n",
    "x_offset"
   ]
  },
  {
   "cell_type": "code",
   "execution_count": null,
   "metadata": {},
   "outputs": [],
   "source": [
    "y_offset = torch.Tensor(b).view(-1,1)\n",
    "y_offset"
   ]
  },
  {
   "cell_type": "code",
   "execution_count": null,
   "metadata": {},
   "outputs": [],
   "source": [
    "x_y_offset = torch.cat((x_offset,y_offset),1)\n",
    "x_y_offset"
   ]
  },
  {
   "cell_type": "code",
   "execution_count": null,
   "metadata": {},
   "outputs": [],
   "source": [
    "x_y_offset = torch.cat((x_offset, y_offset), 1).repeat(1, 507).view(-1, 2).unsqueeze(0)\n",
    "x_y_offset"
   ]
  },
  {
   "cell_type": "code",
   "execution_count": 8,
   "metadata": {},
   "outputs": [
    {
     "output_type": "stream",
     "name": "stdout",
     "text": "torch.Size([1, 507, 25])\ntorch.Size([1, 2028, 25])\ntorch.Size([1, 8112, 25])\ntorch.Size([1, 10647, 25])\n"
    }
   ],
   "source": [
    "from darknet53 import Darknet53\n",
    "import torch\n",
    "from utils import predict_transform\n",
    "\n",
    "dummy_input = torch.rand((1,3,416,416))\n",
    "\n",
    "model = Darknet53(20)\n",
    "device = torch.device(\"cuda\" if torch.cuda.is_available() else \"cpu\")\n",
    "model = model.to(device)\n",
    "dummy_input = dummy_input.to(device)\n",
    "\n",
    "output = model(dummy_input)\n",
    "\n",
    "anchors = [10, 13, 16, 30, 33, 23, 30, 61, 62, 45, 59, 119, 116, 90, 156, 198, 373, 326]\n",
    "anchors = [(anchors[i], anchors[i + 1]) for i in range(0, len(anchors), 2)]\n",
    "\n",
    "mask = [[6,7,8],[3,4,5],[0,1,2]]\n",
    "\n",
    "preds = []\n",
    "for i,op in enumerate(output):\n",
    "    sele_anchors = [anchors[j] for j in mask[i]]\n",
    "    x = predict_transform(op,416,sele_anchors,20,device)\n",
    "    preds.append(x)\n",
    "\n",
    "pred = torch.cat(preds,dim=1)\n",
    "print(pred.shape)\n",
    "\n",
    "\n",
    "\n"
   ]
  },
  {
   "cell_type": "code",
   "execution_count": 2,
   "metadata": {
    "tags": []
   },
   "outputs": [
    {
     "output_type": "stream",
     "name": "stdout",
     "text": "tensor([[  0.0000, 179.6514, 203.2439, 259.9902, 456.2253,   0.9998,   1.0000,\n           0.0000],\n        [  0.0000,  59.8457, 353.9190, 188.0535, 435.4765,   0.9996,   0.9954,\n          16.0000],\n        [  0.0000, 379.4738, 235.1684, 574.0648, 443.0357,   0.9991,   0.9678,\n          17.0000]], device='cuda:0')\n"
    }
   ],
   "source": [
    "from darknet import *\n",
    "from utils import *\n",
    "import torch\n",
    "import cv2\n",
    "\n",
    "model = Darknet(\"yolov3.cfg\")\n",
    "model.load_weights(\"yolov3.weights\")\n",
    "\n",
    "dummy_input = torch.rand((1,3,608,608))\n",
    "device = torch.device(\"cuda\" if torch.cuda.is_available() else \"cpu\")\n",
    "model = model.to(device)\n",
    "dummy_input = dummy_input.to(device)\n",
    "\n",
    "img = cv2.imread(\"person.jpg\")\n",
    "img = prep_image(img,(608,608))\n",
    "img = img.to(device)\n",
    "pred = model(img,device)\n",
    "\n",
    "pred = write_results(pred,0.5,80)\n",
    "\n",
    "print(pred)\n"
   ]
  },
  {
   "cell_type": "code",
   "execution_count": null,
   "metadata": {},
   "outputs": [],
   "source": []
  }
 ],
 "metadata": {
  "language_info": {
   "codemirror_mode": {
    "name": "ipython",
    "version": 3
   },
   "file_extension": ".py",
   "mimetype": "text/x-python",
   "name": "python",
   "nbconvert_exporter": "python",
   "pygments_lexer": "ipython3",
   "version": "3.7.7-final"
  },
  "orig_nbformat": 2,
  "kernelspec": {
   "name": "python37764bitpytorchnotebookconda6e7a8693df0d4d92aca09d521275d23a",
   "display_name": "Python 3.7.7 64-bit ('pytorch_notebook': conda)"
  }
 },
 "nbformat": 4,
 "nbformat_minor": 2
}