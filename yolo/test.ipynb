{
 "cells": [
  {
   "cell_type": "code",
   "execution_count": null,
   "metadata": {},
   "outputs": [],
   "source": [
    "import numpy as np \n",
    "\n",
    "grid = np.arange(16)\n",
    "a,b = np.meshgrid(grid,grid)\n",
    "\n",
    "print(grid)\n",
    "print(a)\n",
    "print(b)"
   ]
  },
  {
   "cell_type": "code",
   "execution_count": null,
   "metadata": {},
   "outputs": [],
   "source": [
    "import torch\n",
    "\n",
    "x_offset = torch.Tensor(a).view(-1,1)\n",
    "x_offset"
   ]
  },
  {
   "cell_type": "code",
   "execution_count": null,
   "metadata": {},
   "outputs": [],
   "source": [
    "y_offset = torch.Tensor(b).view(-1,1)\n",
    "y_offset"
   ]
  },
  {
   "cell_type": "code",
   "execution_count": null,
   "metadata": {},
   "outputs": [],
   "source": [
    "x_y_offset = torch.cat((x_offset,y_offset),1)\n",
    "x_y_offset"
   ]
  },
  {
   "cell_type": "code",
   "execution_count": null,
   "metadata": {},
   "outputs": [],
   "source": [
    "x_y_offset = torch.cat((x_offset, y_offset), 1).repeat(1, 507).view(-1, 2).unsqueeze(0)\n",
    "x_y_offset"
   ]
  },
  {
   "cell_type": "code",
   "execution_count": 8,
   "metadata": {},
   "outputs": [
    {
     "output_type": "stream",
     "name": "stdout",
     "text": "torch.Size([1, 507, 25])\ntorch.Size([1, 2028, 25])\ntorch.Size([1, 8112, 25])\ntorch.Size([1, 10647, 25])\n"
    }
   ],
   "source": [
    "from darknet53 import Darknet53\n",
    "import torch\n",
    "from utils import predict_transform\n",
    "\n",
    "dummy_input = torch.rand((1,3,416,416))\n",
    "\n",
    "model = Darknet53(20)\n",
    "device = torch.device(\"cuda\" if torch.cuda.is_available() else \"cpu\")\n",
    "model = model.to(device)\n",
    "dummy_input = dummy_input.to(device)\n",
    "\n",
    "output = model(dummy_input)\n",
    "\n",
    "anchors = [10, 13, 16, 30, 33, 23, 30, 61, 62, 45, 59, 119, 116, 90, 156, 198, 373, 326]\n",
    "anchors = [(anchors[i], anchors[i + 1]) for i in range(0, len(anchors), 2)]\n",
    "\n",
    "mask = [[6,7,8],[3,4,5],[0,1,2]]\n",
    "\n",
    "preds = []\n",
    "for i,op in enumerate(output):\n",
    "    sele_anchors = [anchors[j] for j in mask[i]]\n",
    "    x = predict_transform(op,416,sele_anchors,20,device)\n",
    "    preds.append(x)\n",
    "\n",
    "pred = torch.cat(preds,dim=1)\n",
    "print(pred.shape)\n",
    "\n",
    "\n",
    "\n"
   ]
  },
  {
   "cell_type": "code",
   "execution_count": null,
   "metadata": {},
   "outputs": [],
   "source": []
  }
 ],
 "metadata": {
  "language_info": {
   "codemirror_mode": {
    "name": "ipython",
    "version": 3
   },
   "file_extension": ".py",
   "mimetype": "text/x-python",
   "name": "python",
   "nbconvert_exporter": "python",
   "pygments_lexer": "ipython3",
   "version": "3.7.7-final"
  },
  "orig_nbformat": 2,
  "kernelspec": {
   "name": "python37764bitpytorchnotebookconda6e7a8693df0d4d92aca09d521275d23a",
   "display_name": "Python 3.7.7 64-bit ('pytorch_notebook': conda)"
  }
 },
 "nbformat": 4,
 "nbformat_minor": 2
}