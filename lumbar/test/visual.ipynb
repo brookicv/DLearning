{
 "cells": [
  {
   "cell_type": "code",
   "execution_count": 1,
   "metadata": {},
   "outputs": [
    {
     "output_type": "execute_result",
     "data": {
      "text/plain": "dcmPath\n../../../Datasets/lumbar/train/study41/image17.dcm    [{'annotator': 72, 'data': {'point': [{'tag': ...\n../../../Datasets/lumbar/train/study11/image20.dcm    [{'annotator': 100, 'data': {'point': [{'tag':...\n../../../Datasets/lumbar/train/study44/image23.dcm    [{'annotator': 100, 'data': {'point': [{'tag':...\n../../../Datasets/lumbar/train/study24/image6.dcm     [{'annotator': 72, 'data': {'point': [{'tag': ...\n../../../Datasets/lumbar/train/study29/image14.dcm    [{'annotator': 100, 'data': {'point': [{'tag':...\n../../../Datasets/lumbar/train/study21/image20.dcm    [{'annotator': 71, 'data': {'point': [{'tag': ...\n../../../Datasets/lumbar/train/study26/image15.dcm    [{'annotator': 71, 'data': {'point': [{'tag': ...\n../../../Datasets/lumbar/train/study36/image52.dcm    [{'annotator': 100, 'data': {'point': [{'tag':...\n../../../Datasets/lumbar/train/study2/image6.dcm      [{'annotator': 70, 'data': {'point': [{'tag': ...\n../../../Datasets/lumbar/train/study39/image17.dcm    [{'annotator': 71, 'data': {'point': [{'tag': ...\n../../../Datasets/lumbar/train/study43/image14.dcm    [{'annotator': 100, 'data': {'point': [{'tag':...\n../../../Datasets/lumbar/train/study22/image17.dcm    [{'annotator': 100, 'data': {'point': [{'tag':...\n../../../Datasets/lumbar/train/study3/image7.dcm      [{'annotator': 100, 'data': {'point': [{'tag':...\n../../../Datasets/lumbar/train/study4/image6.dcm      [{'annotator': 72, 'data': {'point': [{'tag': ...\n../../../Datasets/lumbar/train/study35/image41.dcm    [{'annotator': 70, 'data': {'point': [{'tag': ...\n../../../Datasets/lumbar/train/study7/image14.dcm     [{'annotator': 70, 'data': {'point': [{'tag': ...\n../../../Datasets/lumbar/train/study28/image15.dcm    [{'annotator': 72, 'data': {'point': [{'tag': ...\n../../../Datasets/lumbar/train/study25/image37.dcm    [{'annotator': 70, 'data': {'point': [{'tag': ...\n../../../Datasets/lumbar/train/study48/image32.dcm    [{'annotator': 72, 'data': {'point': [{'tag': ...\n../../../Datasets/lumbar/train/study1/image35.dcm     [{'annotator': 71, 'data': {'point': [{'tag': ...\n../../../Datasets/lumbar/train/study51/image23.dcm    [{'annotator': 70, 'data': {'point': [{'tag': ...\n../../../Datasets/lumbar/train/study27/image15.dcm    [{'annotator': 71, 'data': {'point': [{'tag': ...\n../../../Datasets/lumbar/train/study52/image13.dcm    [{'annotator': 70, 'data': {'point': [{'tag': ...\n../../../Datasets/lumbar/train/study38/image14.dcm    [{'annotator': 70, 'data': {'point': [{'tag': ...\n../../../Datasets/lumbar/train/study15/image25.dcm    [{'annotator': 100, 'data': {'point': [{'tag':...\n../../../Datasets/lumbar/train/study40/image14.dcm    [{'annotator': 72, 'data': {'point': [{'tag': ...\n../../../Datasets/lumbar/train/study16/image15.dcm    [{'annotator': 72, 'data': {'point': [{'tag': ...\n../../../Datasets/lumbar/train/study8/image7.dcm      [{'annotator': 71, 'data': {'point': [{'tag': ...\n../../../Datasets/lumbar/train/study18/image15.dcm    [{'annotator': 70, 'data': {'point': [{'tag': ...\n../../../Datasets/lumbar/train/study0/image37.dcm     [{'annotator': 100, 'data': {'point': [{'tag':...\n../../../Datasets/lumbar/train/study32/image17.dcm    [{'annotator': 70, 'data': {'point': [{'tag': ...\n../../../Datasets/lumbar/train/study37/image51.dcm    [{'annotator': 71, 'data': {'point': [{'tag': ...\n../../../Datasets/lumbar/train/study46/image28.dcm    [{'annotator': 100, 'data': {'point': [{'tag':...\n../../../Datasets/lumbar/train/study12/image14.dcm    [{'annotator': 70, 'data': {'point': [{'tag': ...\n../../../Datasets/lumbar/train/study5/image38.dcm     [{'annotator': 72, 'data': {'point': [{'tag': ...\n../../../Datasets/lumbar/train/study14/image25.dcm    [{'annotator': 100, 'data': {'point': [{'coord...\n../../../Datasets/lumbar/train/study33/image17.dcm    [{'annotator': 100, 'data': {'point': [{'coord...\n../../../Datasets/lumbar/train/study45/image14.dcm    [{'annotator': 100, 'data': {'point': [{'coord...\n../../../Datasets/lumbar/train/study23/image6.dcm     [{'annotator': 100, 'data': {'point': [{'coord...\n../../../Datasets/lumbar/train/study6/image12.dcm     [{'annotator': 100, 'data': {'point': [{'coord...\n../../../Datasets/lumbar/train/study47/image17.dcm    [{'annotator': 100, 'data': {'point': [{'coord...\n../../../Datasets/lumbar/train/study42/image15.dcm    [{'annotator': 100, 'data': {'point': [{'coord...\n../../../Datasets/lumbar/train/study34/image18.dcm    [{'annotator': 100, 'data': {'point': [{'coord...\n../../../Datasets/lumbar/train/study49/image48.dcm    [{'annotator': 100, 'data': {'point': [{'coord...\n../../../Datasets/lumbar/train/study9/image24.dcm     [{'annotator': 100, 'data': {'point': [{'coord...\n../../../Datasets/lumbar/train/study17/image14.dcm    [{'annotator': 100, 'data': {'point': [{'coord...\n../../../Datasets/lumbar/train/study19/image6.dcm     [{'annotator': 100, 'data': {'point': [{'coord...\n../../../Datasets/lumbar/train/study20/image14.dcm    [{'annotator': 100, 'data': {'point': [{'coord...\n../../../Datasets/lumbar/train/study13/image28.dcm    [{'annotator': 100, 'data': {'point': [{'coord...\n../../../Datasets/lumbar/train/study30/image26.dcm    [{'annotator': 100, 'data': {'point': [{'coord...\n../../../Datasets/lumbar/train/study31/image26.dcm    [{'annotator': 100, 'data': {'point': [{'coord...\nName: annotation, dtype: object"
     },
     "metadata": {},
     "execution_count": 1
    }
   ],
   "source": [
    "import os\n",
    "import json\n",
    "import glob\n",
    "import SimpleITK as sitk \n",
    "import pandas as pd \n",
    "\n",
    "from data_utils import dicom_metainfo,dicom2array\n",
    "\n",
    "trainPath = \"../../../Datasets/lumbar/train\"\n",
    "jsonPath = \"../../../Datasets/lumbar/lumbar_train51_annotation.json\"\n",
    "\n",
    "# studyUid,seriesUid,instanceUid,annotation\n",
    "annotation_info = pd.DataFrame(columns=('studyUid','seriesUid','instanceUid','annotation'))\n",
    "json_df = pd.read_json(jsonPath)\n",
    "for idx in json_df.index:\n",
    "    studyUid = json_df.loc[idx,\"studyUid\"]\n",
    "    seriesUid = json_df.loc[idx,\"data\"][0]['seriesUid']\n",
    "    instanceUid =  json_df.loc[idx,\"data\"][0]['instanceUid']\n",
    "    annotation =  json_df.loc[idx,\"data\"][0]['annotation']\n",
    "    row = pd.Series({'studyUid':studyUid,'seriesUid':seriesUid,'instanceUid':instanceUid,'annotation':annotation})\n",
    "    annotation_info = annotation_info.append(row,ignore_index=True)\n",
    "\n",
    "dcm_paths = glob.glob(os.path.join(trainPath,\"**\",\"**.dcm\"))\n",
    "# 'studyUid','seriesUid','instanceUid'\n",
    "tag_list = ['0020|000d','0020|000e','0008|0018']\n",
    "dcm_info = pd.DataFrame(columns=('dcmPath','studyUid','seriesUid','instanceUid'))\n",
    "for dcm_path in dcm_paths:\n",
    "    try:\n",
    "        studyUid,seriesUid,instanceUid = dicom_metainfo(dcm_path,tag_list)\n",
    "        row = pd.Series({'dcmPath':dcm_path,'studyUid':studyUid,'seriesUid':seriesUid,'instanceUid':instanceUid })\n",
    "        dcm_info = dcm_info.append(row,ignore_index=True)\n",
    "    except:\n",
    "        continue\n",
    "\n",
    "result = pd.merge(annotation_info,dcm_info,on=['studyUid','seriesUid','instanceUid'])\n",
    "result = result.set_index('dcmPath')['annotation']\n",
    "result"
   ]
  },
  {
   "cell_type": "code",
   "execution_count": null,
   "metadata": {},
   "outputs": [],
   "source": []
  }
 ],
 "metadata": {
  "language_info": {
   "codemirror_mode": {
    "name": "ipython",
    "version": 3
   },
   "file_extension": ".py",
   "mimetype": "text/x-python",
   "name": "python",
   "nbconvert_exporter": "python",
   "pygments_lexer": "ipython3",
   "version": "3.7.7-final"
  },
  "orig_nbformat": 2,
  "kernelspec": {
   "name": "python37764bitpytorchnotebookconda6e7a8693df0d4d92aca09d521275d23a",
   "display_name": "Python 3.7.7 64-bit ('pytorch_notebook': conda)"
  }
 },
 "nbformat": 4,
 "nbformat_minor": 2
}