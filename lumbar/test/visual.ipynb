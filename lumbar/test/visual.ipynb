{
 "cells": [
  {
   "cell_type": "code",
   "execution_count": null,
   "metadata": {},
   "outputs": [],
   "source": [
    "import os\n",
    "import json\n",
    "import glob\n",
    "import SimpleITK as sitk \n",
    "import pandas as pd \n",
    "\n",
    "from data_utils import dicom_metainfo,dicom2array\n",
    "\n",
    "trainPath = \"../../../Datasets/lumbar/train\"\n",
    "jsonPath = \"../../../Datasets/lumbar/lumbar_train51_annotation.json\"\n",
    "\n",
    "# studyUid,seriesUid,instanceUid,annotation\n",
    "annotation_info = pd.DataFrame(columns=('studyUid','seriesUid','instanceUid','annotation'))\n",
    "json_df = pd.read_json(jsonPath)\n",
    "for idx in json_df.index:\n",
    "    studyUid = json_df.loc[idx,\"studyUid\"]\n",
    "    seriesUid = json_df.loc[idx,\"data\"][0]['seriesUid']\n",
    "    instanceUid =  json_df.loc[idx,\"data\"][0]['instanceUid']\n",
    "    annotation =  json_df.loc[idx,\"data\"][0]['annotation']\n",
    "    row = pd.Series({'studyUid':studyUid,'seriesUid':seriesUid,'instanceUid':instanceUid,'annotation':annotation})\n",
    "    annotation_info = annotation_info.append(row,ignore_index=True)\n",
    "\n",
    "dcm_paths = glob.glob(os.path.join(trainPath,\"**\",\"**.dcm\"))\n",
    "# 'studyUid','seriesUid','instanceUid'\n",
    "tag_list = ['0020|000d','0020|000e','0008|0018']\n",
    "dcm_info = pd.DataFrame(columns=('dcmPath','studyUid','seriesUid','instanceUid'))\n",
    "for dcm_path in dcm_paths:\n",
    "    try:\n",
    "        studyUid,seriesUid,instanceUid = dicom_metainfo(dcm_path,tag_list)\n",
    "        row = pd.Series({'dcmPath':dcm_path,'studyUid':studyUid,'seriesUid':seriesUid,'instanceUid':instanceUid })\n",
    "        dcm_info = dcm_info.append(row,ignore_index=True)\n",
    "    except:\n",
    "        continue\n",
    "\n",
    "result = pd.merge(annotation_info,dcm_info,on=['studyUid','seriesUid','instanceUid'])\n",
    "result = result.set_index('dcmPath')['annotation']\n",
    "result"
   ]
  }
 ],
 "metadata": {
  "language_info": {
   "codemirror_mode": {
    "name": "ipython",
    "version": 3
   },
   "file_extension": ".py",
   "mimetype": "text/x-python",
   "name": "python",
   "nbconvert_exporter": "python",
   "pygments_lexer": "ipython3",
   "version": "3.7.7-final"
  },
  "orig_nbformat": 2,
  "kernelspec": {
   "name": "python37764bitpytorchnotebookconda6e7a8693df0d4d92aca09d521275d23a",
   "display_name": "Python 3.7.7 64-bit ('pytorch_notebook': conda)"
  }
 },
 "nbformat": 4,
 "nbformat_minor": 2
}